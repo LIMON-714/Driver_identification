{
 "cells": [
  {
   "cell_type": "markdown",
   "id": "f45626cb",
   "metadata": {},
   "source": [
    "# driver_identification_system"
   ]
  },
  {
   "cell_type": "code",
   "execution_count": 1,
   "id": "2a08916c",
   "metadata": {},
   "outputs": [],
   "source": [
    "import pandas as pd \n",
    "%matplotlib inline\n",
    "import matplotlib.pyplot as plt \n",
    "import seaborn as sns; sns.set()\n",
    "import numpy as np"
   ]
  },
  {
   "cell_type": "code",
   "execution_count": 2,
   "id": "93a0f439",
   "metadata": {},
   "outputs": [],
   "source": [
    "data=pd.read_csv('full_data_test .csv')"
   ]
  },
  {
   "cell_type": "code",
   "execution_count": 3,
   "id": "cab4b864",
   "metadata": {},
   "outputs": [],
   "source": [
    "columns2=[\"Long_Term_Fuel_Trim_Bank1\",\"Intake_air_pressure\",\"Accelerator_Pedal_value\",\"Fuel_consumption\",\"Torque_of_friction\",\"Maximum_indicated_engine_torque\",\"Engine_torque\",\"Calculated_LOAD_value\",\n",
    "\"Activation_of_Air_compressor\",\"Engine_coolant_temperature\",\"Transmission_oil_temperature\",\"Wheel_velocity_front_left-hand\",\"Wheel_velocity_front_right-hand\",\"Wheel_velocity_rear_left-hand\",\n",
    "\"Torque_converter_speed\"]"
   ]
  },
  {
   "cell_type": "code",
   "execution_count": 4,
   "id": "ba564a37",
   "metadata": {},
   "outputs": [
    {
     "name": "stdout",
     "output_type": "stream",
     "text": [
      "Driver : 0 number of trips :4  For Train : 3  For valid :1\n",
      "Driver : 1 number of trips :6  For Train : 5  For valid :1\n",
      "Driver : 2 number of trips :4  For Train : 3  For valid :1\n",
      "Driver : 3 number of trips :6  For Train : 5  For valid :1\n",
      "Driver : 4 number of trips :4  For Train : 3  For valid :1\n",
      "Driver : 5 number of trips :4  For Train : 3  For valid :1\n",
      "Driver : 6 number of trips :4  For Train : 3  For valid :1\n",
      "Driver : 7 number of trips :4  For Train : 3  For valid :1\n",
      "Driver : 8 number of trips :4  For Train : 3  For valid :1\n",
      "Driver : 9 number of trips :4  For Train : 3  For valid :1\n",
      "total is 1551\n",
      "(1551, 60, 15)\n"
     ]
    }
   ],
   "source": [
    "classes=['A','B','C','D','E','F','G','H','I','J']\n",
    "\n",
    "\n",
    "drivers =[]\n",
    "for c in classes:\n",
    "    drivers.append(data[data['Class']==c])\n",
    "dataa=[]\n",
    "for c in range(len(drivers)):\n",
    "    nt=0\n",
    "    nv=0\n",
    "    drivers[c]=drivers[c].reset_index(drop=True)\n",
    "    idxs=drivers[c][drivers[c]['Time(s)']==1].index.values\n",
    "    for i in range(len(idxs)):\n",
    "        if i <(len(idxs)-1):\n",
    "            nt=nt+1\n",
    "            dataa.append(drivers[c][idxs[i]:idxs[i+1]])\n",
    "        if i==(len(idxs)-1):\n",
    "            nv=nv+1\n",
    "            dataa.append(drivers[c][idxs[i]:])\n",
    "    print(\"Driver : \"+str(c)+\" number of trips :\"+str(len(idxs))+ \"  For Train : \"+str(nt)+\"  For valid :\"+str(nv))\n",
    "\n",
    "\n",
    "drivers=[]\n",
    "ss=0\n",
    "for i in range(len(dataa)):\n",
    "    #print(n)\n",
    "    n=int(len(dataa[i])/60)\n",
    "    #print(\" Drive \"+str(i)+\" contains \"+str(n)+\" subdriversets\")\n",
    "    dd=0\n",
    "    for j in range(n):\n",
    "        #print(j)\n",
    "        temp=dataa[i][dd:dd+60]\n",
    "        temp=temp.reset_index(drop=True)\n",
    "        drivers.append(temp)\n",
    "        ss=ss+1\n",
    "        dd=dd+60\n",
    "print(\"total is \"+str(ss))\n",
    "\n",
    "  \n",
    "\n",
    "samples = list()\n",
    "labels=list()\n",
    "from sklearn.preprocessing import StandardScaler\n",
    "scaler = StandardScaler()\n",
    "scaler.fit(data[columns2].values)\n",
    "for c in drivers:\n",
    "    labels.append(c['Class'][0])\n",
    "    del c['Class']\n",
    "    del c['Time(s)']\n",
    "    samples.append(scaler.transform(c[columns2].values))\n",
    "data = np.array(samples)\n",
    "print(data.shape)"
   ]
  },
  {
   "cell_type": "code",
   "execution_count": 5,
   "id": "8fde7cfa",
   "metadata": {},
   "outputs": [
    {
     "data": {
      "text/plain": [
       "(1551, 60, 15)"
      ]
     },
     "execution_count": 5,
     "metadata": {},
     "output_type": "execute_result"
    }
   ],
   "source": [
    "data.shape"
   ]
  },
  {
   "cell_type": "code",
   "execution_count": 7,
   "id": "d0d3465e",
   "metadata": {},
   "outputs": [
    {
     "data": {
      "text/plain": [
       "array([[-2.33506176e+00,  9.14227015e-02, -4.84425607e-01,\n",
       "        -7.39273112e-01, -9.47842464e-01,  7.23917803e-03,\n",
       "        -1.46084787e+00, -8.85370164e-01, -2.52369518e+00,\n",
       "         1.41618578e+00,  7.32893800e-01, -1.21012392e+00,\n",
       "        -1.18801937e+00, -1.20859724e+00, -1.07794189e-01],\n",
       "       [-2.36257622e+00,  4.80080031e-01, -4.84425607e-01,\n",
       "        -7.71042010e-01, -1.18960194e+00, -4.16209493e-01,\n",
       "        -1.27301032e+00, -3.12458930e-01, -2.52369518e+00,\n",
       "         1.73933683e+00,  9.82669816e-01, -1.21012392e+00,\n",
       "        -1.18801937e+00, -1.20859724e+00, -4.81085118e-01],\n",
       "       [-2.36758309e+00,  5.41485391e-01, -4.84425607e-01,\n",
       "        -8.29374179e-01, -1.29448885e+00, -5.09944901e-01,\n",
       "        -1.26659763e+00, -2.04649691e-01, -2.52369518e+00,\n",
       "         1.79814135e+00,  1.02812212e+00, -1.21012392e+00,\n",
       "        -1.18801937e+00, -1.20859724e+00, -5.63827463e-01],\n",
       "       [-2.36881221e+00,  4.07677154e-01, -4.84425607e-01,\n",
       "        -8.60044458e-01, -1.54165131e+00, -4.79501057e-01,\n",
       "        -1.26502340e+00, -4.06889482e-01, -2.52369518e+00,\n",
       "         1.81257709e+00,  1.03928006e+00, -1.21012392e+00,\n",
       "        -1.18801937e+00, -1.20859724e+00, -5.83032278e-01],\n",
       "       [-2.36440130e+00,  4.85763061e-01, -4.84425607e-01,\n",
       "        -8.32290467e-01, -8.76527172e-02, -4.79538641e-01,\n",
       "        -1.14215286e+00, -3.34823885e-01,  8.50826022e-01,\n",
       "         1.76077199e+00,  9.99237889e-01, -1.21012392e+00,\n",
       "        -1.18801937e+00, -1.20859724e+00, -5.12024401e-01],\n",
       "       [-2.36116527e+00,  5.21001651e-01, -4.84425607e-01,\n",
       "        -7.72487373e-01,  1.35423931e+00, -4.51683650e-01,\n",
       "        -1.06180174e+00, -2.59458597e-01,  8.32170283e-01,\n",
       "         1.72276549e+00,  9.69861186e-01, -1.21012392e+00,\n",
       "        -1.18801937e+00, -1.20859724e+00, -4.61401787e-01],\n",
       "       [-2.36775270e+00,  5.87854665e-01, -4.84425607e-01,\n",
       "        -8.29218721e-01,  1.53632352e+00, -5.05743843e-01,\n",
       "        -7.60128611e-01, -2.03973111e-01,  8.70146819e-01,\n",
       "         1.72735315e+00,  1.02966184e+00, -1.21012392e+00,\n",
       "        -1.18801937e+00, -1.20859724e+00, -5.68527409e-01],\n",
       "       [-2.38005168e+00,  1.09592028e+00, -4.84425607e-01,\n",
       "        -6.23529109e-01,  2.15771361e+00, -2.01112879e-01,\n",
       "        -1.72986097e-01,  5.53748499e-01,  9.41050422e-01,\n",
       "         1.87028138e+00,  1.14131189e+00, -1.21012392e+00,\n",
       "        -1.18801937e+00, -1.20859724e+00, -1.00072668e+00],\n",
       "       [-2.39085190e+00,  1.52064853e+00, -4.84425607e-01,\n",
       "        -5.11180993e-01,  2.52299599e+00, -4.77550090e-02,\n",
       "         3.86328345e-01,  1.20817072e+00,  1.00331365e+00,\n",
       "         1.99579223e+00,  1.23935616e+00, -1.21012392e+00,\n",
       "        -1.18801937e+00, -1.20859724e+00, -1.91363998e+00],\n",
       "       [-2.39056569e+00,  1.75733087e+00, -4.84425607e-01,\n",
       "        -4.45642840e-01,  2.74877405e+00, -5.47906677e-02,\n",
       "         6.42543015e-01,  1.59762400e+00,  1.00166365e+00,\n",
       "         1.99246616e+00,  1.23675795e+00, -1.21012392e+00,\n",
       "        -1.18801937e+00, -1.20859724e+00, -1.91194841e+00],\n",
       "       [-1.77905474e+00,  1.93552821e+00, -4.84425607e-01,\n",
       "        -3.17688525e-01,  2.85525340e+00, -1.10706416e-01,\n",
       "         6.77226150e-01,  1.88023720e+00,  9.88550342e-01,\n",
       "         1.89071284e+00,  1.15253818e+00, -1.16427754e+00,\n",
       "        -1.18801937e+00, -1.16248380e+00, -1.67980750e+00],\n",
       "       [-1.77905474e+00,  1.92449716e+00, -4.84425607e-01,\n",
       "        -2.55759044e-01,  2.83342328e+00, -4.79005770e-02,\n",
       "         6.68132852e-01,  1.86529563e+00,  9.76710961e-01,\n",
       "         1.86710078e+00,  1.13410931e+00, -1.12445174e+00,\n",
       "        -1.18225768e+00, -1.12242599e+00, -1.52145380e+00],\n",
       "       [-1.77905474e+00,  1.78634868e+00, -4.84425607e-01,\n",
       "        -3.85554569e-01,  2.58120839e+00, -3.02939445e-02,\n",
       "         6.71280332e-01,  1.69508191e+00,  9.80808948e-01,\n",
       "         1.87527367e+00,  1.14048813e+00, -1.10719694e+00,\n",
       "        -1.16494561e+00, -1.10507068e+00, -1.46171951e+00],\n",
       "       [-1.77905474e+00,  1.77198400e+00, -4.84425607e-01,\n",
       "        -3.57452827e-01,  2.55268370e+00, -9.95438604e-02,\n",
       "         7.91757271e-01,  1.64518562e+00,  9.64690861e-01,\n",
       "         1.84312831e+00,  1.11539913e+00, -1.09059473e+00,\n",
       "        -1.07318119e+00, -1.08837175e+00, -1.38429105e+00],\n",
       "       [-1.77905474e+00,  1.95768456e+00, -4.84425607e-01,\n",
       "        -1.79691492e-01,  2.58807826e+00, -1.00377984e-01,\n",
       "         8.80741952e-01,  1.87427024e+00,  9.12723924e-01,\n",
       "         1.73948723e+00,  1.03450874e+00, -1.05312586e+00,\n",
       "        -1.07489195e+00, -1.05068461e+00, -1.24212735e+00],\n",
       "       [-1.77905474e+00,  1.89809278e+00, -4.84425607e-01,\n",
       "        -1.84519697e-01,  2.81655768e+00, -1.61229671e-01,\n",
       "         8.68962330e-01,  1.82650891e+00,  8.98770762e-01,\n",
       "         1.71165953e+00,  1.01278961e+00, -1.03701041e+00,\n",
       "        -1.06971789e+00, -1.03447528e+00, -1.16951802e+00],\n",
       "       [-1.77905474e+00,  1.88840236e+00, -4.84425607e-01,\n",
       "        -1.88067170e-01,  2.92373961e+00, -2.05939802e-01,\n",
       "         8.60307378e-01,  1.81339227e+00,  8.88518824e-01,\n",
       "         1.69121341e+00,  9.96831711e-01, -1.01525866e+00,\n",
       "        -1.07007226e+00, -1.01259681e+00, -1.08578977e+00],\n",
       "       [-1.77905474e+00,  1.87647809e+00, -4.84425607e-01,\n",
       "        -1.92432415e-01,  3.15153871e+00, -2.60956616e-01,\n",
       "         8.92815607e-01,  1.79725196e+00,  8.75903586e-01,\n",
       "         1.66605402e+00,  9.77195157e-01, -9.93791109e-01,\n",
       "        -1.02574220e+00, -9.96583514e-01, -9.97501639e-01],\n",
       "       [-1.77905474e+00,  1.86703703e+00, -4.84425607e-01,\n",
       "        -1.95888600e-01,  3.13164131e+00, -3.04516210e-01,\n",
       "         8.41225033e-01,  1.78447286e+00,  8.65915464e-01,\n",
       "         1.64613405e+00,  9.61647905e-01, -9.83365305e-01,\n",
       "        -9.64846416e-01, -9.80517667e-01, -9.48350657e-01],\n",
       "       [-1.77905474e+00,  1.81713643e+00, -4.84425607e-01,\n",
       "        -1.97422355e-01,  3.12281141e+00, -2.14286527e-01,\n",
       "         8.37483050e-01,  1.74933860e+00,  8.61483022e-01,\n",
       "         1.63729414e+00,  9.54748481e-01, -9.72614896e-01,\n",
       "        -9.65138249e-01, -9.69704633e-01, -9.16111561e-01],\n",
       "       [-1.77905474e+00,  1.86502831e+00, -4.84425607e-01,\n",
       "        -1.64943684e-01,  3.12740785e+00, -3.13784134e-01,\n",
       "         8.39430956e-01,  1.75227058e+00,  8.63790348e-01,\n",
       "         1.64189579e+00,  9.58340006e-01, -9.83507472e-01,\n",
       "        -9.70562160e-01, -9.80660662e-01, -9.42860536e-01],\n",
       "       [-1.77905474e+00,  1.87640825e+00, -4.84425607e-01,\n",
       "        -1.92457979e-01,  3.15139154e+00, -1.51254303e-01,\n",
       "         8.92752298e-01,  1.79715744e+00,  8.75829707e-01,\n",
       "         1.59300457e+00,  9.77080160e-01, -9.99342685e-01,\n",
       "        -1.05372394e+00, -9.96588122e-01, -1.02096994e+00],\n",
       "       [-1.77905474e+00,  1.92250832e+00, -4.84425607e-01,\n",
       "        -1.60592688e-01,  3.15179754e+00, -2.60389979e-01,\n",
       "         8.92926945e-01,  1.85659799e+00,  8.76033514e-01,\n",
       "         1.59340667e+00,  9.77397401e-01, -9.99330048e-01,\n",
       "        -1.05371589e+00, -9.96575411e-01, -1.03315110e+00],\n",
       "       [-1.77905474e+00,  1.95949144e+00, -4.84425607e-01,\n",
       "        -1.79039346e-01,  3.22864318e+00, -9.21587434e-02,\n",
       "         8.82333027e-01,  1.90662357e+00,  9.14608578e-01,\n",
       "         1.66951222e+00,  1.03744235e+00, -1.07548035e+00,\n",
       "        -1.10312727e+00, -1.07316932e+00, -1.34445910e+00],\n",
       "       [-1.77905474e+00,  1.91402626e+00, -4.84425607e-01,\n",
       "        -2.26701270e-01,  3.07133586e+00,  1.67413121e-02,\n",
       "         7.03796733e-01,  1.85111278e+00,  9.65472768e-01,\n",
       "         1.76986324e+00,  1.11661623e+00, -1.18165821e+00,\n",
       "        -1.18801937e+00, -1.18569202e+00, -1.83934710e+00],\n",
       "       [-2.38069807e+00,  1.66056498e+00, -4.84425607e-01,\n",
       "        -3.95663894e-01,  2.77454136e+00, -1.85102602e-01,\n",
       "         3.90417692e-01,  1.53065899e+00,  9.44776854e-01,\n",
       "         1.72903183e+00,  1.08440150e+00, -1.21012392e+00,\n",
       "        -1.18801937e+00, -1.20859724e+00, -1.11832443e+00],\n",
       "       [-2.36902701e+00,  1.28092799e+00, -4.84425607e-01,\n",
       "        -6.05391808e-01,  2.52442362e+00, -4.74180712e-01,\n",
       "         2.14116079e-01,  8.74204460e-01,  8.77493215e-01,\n",
       "         1.52334877e+00,  9.79669533e-01, -1.21012392e+00,\n",
       "        -1.18801937e+00, -1.20859724e+00, -6.15595457e-01],\n",
       "       [-2.36904675e+00,  1.28101557e+00, -4.84425607e-01,\n",
       "        -6.05366267e-01,  2.39856864e+00, -4.73691815e-01,\n",
       "         2.14190837e-01,  9.03922692e-01,  8.77607007e-01,\n",
       "         1.52357083e+00,  9.79846659e-01, -1.21012392e+00,\n",
       "        -1.18801937e+00, -1.20859724e+00, -6.16572057e-01],\n",
       "       [-2.38261970e+00,  1.85807990e+00, -4.84425607e-01,\n",
       "        -3.60014484e-01,  2.53704663e+00, -1.37506260e-01,\n",
       "         6.07941002e-01,  1.75569222e+00,  9.55855019e-01,\n",
       "         1.67626995e+00,  1.10164549e+00, -1.21012392e+00,\n",
       "        -1.18801937e+00, -1.20288672e+00, -1.25623856e+00],\n",
       "       [-1.77905474e+00,  1.92730384e+00, -4.84425607e-01,\n",
       "        -2.70715381e-01,  2.61870441e+00, -2.64542880e-02,\n",
       "         8.07370105e-01,  1.83599128e+00,  9.29674470e-01,\n",
       "         1.55112244e+00,  1.06089352e+00, -1.10869876e+00,\n",
       "        -1.13117665e+00, -1.10658124e+00, -1.33098726e+00],\n",
       "       [-1.77905474e+00,  1.89485763e+00, -4.84425607e-01,\n",
       "        -2.17679427e-01,  2.68340190e+00, -1.76156203e-01,\n",
       "         7.79262479e-01,  1.82212991e+00,  8.95348140e-01,\n",
       "         1.48487155e+00,  1.00746205e+00, -1.05391970e+00,\n",
       "        -1.07546396e+00, -1.05148307e+00, -1.06977800e+00],\n",
       "       [-1.77905474e+00,  1.82995870e+00, -4.84425607e-01,\n",
       "        -2.24447737e-01,  2.89828045e+00, -1.53823715e-01,\n",
       "         8.05951196e-01,  1.73724313e+00,  8.75244886e-01,\n",
       "         1.44607164e+00,  9.76169843e-01, -1.04929223e+00,\n",
       "        -1.07612577e+00, -1.04682864e+00, -1.05374174e+00],\n",
       "       [-1.77905474e+00,  1.79405589e+00, -4.84425607e-01,\n",
       "        -2.68848181e-01,  2.82437352e+00, -3.23121695e-01,\n",
       "         7.73909233e-01,  1.65936507e+00,  8.36711185e-01,\n",
       "         1.37170040e+00,  9.16189282e-01, -9.96285110e-01,\n",
       "        -1.07186305e+00, -9.99027722e-01, -8.38355940e-01],\n",
       "       [-1.77905474e+00,  1.79398228e+00, -4.84425607e-01,\n",
       "        -1.91655181e-01,  2.73214989e+00, -4.27175331e-01,\n",
       "         8.91615014e-01,  1.71441747e+00,  7.88627500e-01,\n",
       "         1.27889738e+00,  8.41343463e-01, -9.61512775e-01,\n",
       "        -1.07352512e+00, -9.74846059e-01, -6.94807040e-01],\n",
       "       [-1.77905474e+00,  1.63835349e+00, -4.10730057e-01,\n",
       "         4.95765321e-03,  2.50385580e+00,  1.57032696e-01,\n",
       "         9.08590598e-01,  1.53329993e+00,  6.69599197e-01,\n",
       "         1.04916903e+00,  6.56067089e-01, -9.02711727e-01,\n",
       "        -9.77771936e-01, -9.25597891e-01, -4.53226673e-01],\n",
       "       [-1.77905474e+00,  1.48805343e+00, -2.61589422e-01,\n",
       "        -2.24975291e-01,  2.55232250e+00, -3.47342006e-01,\n",
       "         8.09188243e-01,  1.26448971e+00,  6.94868831e-01,\n",
       "         1.02891878e+00,  6.95401147e-01, -9.00279068e-01,\n",
       "        -9.76108176e-01, -9.23358420e-01, -3.91478155e-01],\n",
       "       [-1.77905474e+00,  1.17435692e+00, -4.11680128e-01,\n",
       "        -1.01190002e-01,  2.19124638e+00,  2.66560779e-01,\n",
       "         6.40735129e-01,  8.63344531e-01,  6.28431777e-01,\n",
       "         9.02117920e-01,  5.91986949e-01, -8.70672400e-01,\n",
       "        -9.75293987e-01, -8.82687776e-01, -2.74485913e-01],\n",
       "       [-1.77905474e+00,  1.19131583e+00, -4.84425607e-01,\n",
       "        -3.72526204e-01,  2.09209611e+00, -3.81902427e-01,\n",
       "         4.18026421e-01,  7.84144763e-01,  7.04432448e-01,\n",
       "         9.77945247e-01,  7.10287625e-01, -8.88823973e-01,\n",
       "        -9.70164983e-01, -9.01319280e-01, -3.37969642e-01],\n",
       "       [-1.77905474e+00,  1.37312951e+00, -3.37387430e-01,\n",
       "        -1.47295028e-01,  2.01691879e+00,  1.20531116e-01,\n",
       "         8.20692862e-01,  1.11454938e+00,  6.61952948e-01,\n",
       "         8.97780413e-01,  6.44165136e-01, -8.93052016e-01,\n",
       "        -9.73031767e-01, -9.00134625e-01, -3.32527439e-01],\n",
       "       [-1.77905474e+00,  1.30841071e+00, -3.38583909e-01,\n",
       "        -1.86784834e-01,  1.97104335e+00,  2.01310719e-01,\n",
       "         9.17913918e-01,  1.00908375e+00,  6.36030693e-01,\n",
       "         7.81101782e-01,  6.03815225e-01, -8.80165282e-01,\n",
       "        -9.74781164e-01, -8.92273372e-01, -2.70534361e-01],\n",
       "       [-1.77905474e+00,  1.17730396e+00, -1.01085343e-03,\n",
       "        -1.78897681e-01,  1.87105895e+00,  2.04145523e-01,\n",
       "         8.25980517e-01,  7.56340142e-01,  5.79533769e-01,\n",
       "         6.75695646e-01,  5.15873576e-01, -8.50621111e-01,\n",
       "        -9.78593933e-01, -8.72464764e-01, -1.51383792e-01],\n",
       "       [-1.77905474e+00,  1.34344564e+00,  9.85587255e-01,\n",
       "         2.38220490e-01,  1.62227211e+00,  2.78521911e-01,\n",
       "         1.21419268e+00,  1.06415301e+00,  4.38954934e-01,\n",
       "         4.13418152e-01,  2.97052202e-01, -8.08898373e-01,\n",
       "        -9.00303291e-01, -8.39069813e-01,  2.32450371e-02],\n",
       "       [-1.77905474e+00,  1.08716099e+00,  1.03681679e+00,\n",
       "         3.36318498e-01,  1.34322092e+00,  7.35027061e-02,\n",
       "         8.63993452e-01,  5.84819250e-01,  2.81275002e-01,\n",
       "         1.19235194e-01,  5.16117042e-02, -7.57024440e-01,\n",
       "        -8.37127265e-01, -7.71271967e-01,  3.24435952e-01],\n",
       "       [-1.77905474e+00,  7.84058816e-01,  1.02084217e+00,\n",
       "         2.74445027e-01,  1.09060690e+00,  3.14404986e-01,\n",
       "         5.90471685e-01,  6.02322721e-02,  1.38533586e-01,\n",
       "        -1.47077020e-01, -1.70575886e-01, -7.27955824e-01,\n",
       "        -7.80488909e-01, -7.32358641e-01,  5.60555045e-01],\n",
       "       [-1.77905474e+00,  2.16372330e-01, -3.60950909e-01,\n",
       "        -1.42899233e-01,  1.31174114e+00,  3.02488744e-01,\n",
       "        -2.96842631e-01, -7.01272979e-01,  1.51439589e-01,\n",
       "        -1.22998330e-01, -1.50486736e-01, -6.95063956e-01,\n",
       "        -7.43286944e-01, -6.90536841e-01,  6.44752480e-01],\n",
       "       [-1.77905474e+00,  5.13841371e-01, -4.84425607e-01,\n",
       "        -4.57286277e-01,  1.76939447e+00,  2.16805122e-01,\n",
       "        -1.93758274e-02, -2.65870387e-01,  5.22087508e-01,\n",
       "         5.03202161e-01,  4.26454214e-01, -6.43579607e-01,\n",
       "        -6.81667937e-01, -6.43751211e-01,  1.16871073e-01],\n",
       "       [-1.77905474e+00,  9.77475750e-01,  1.23469407e+00,\n",
       "         4.80721782e-01,  1.14342056e+00,  8.22406615e-02,\n",
       "         8.91964941e-01,  4.42691076e-01,  1.13154354e-01,\n",
       "        -2.50973663e-01, -2.10080541e-01, -7.15342584e-01,\n",
       "        -7.40971192e-01, -7.15261110e-01,  5.55630617e-01],\n",
       "       [-1.77905474e+00,  1.05405083e+00,  1.42550817e+00,\n",
       "         8.63136429e-01,  9.20617607e-01,  2.36273655e-01,\n",
       "         1.00122972e+00,  5.35513619e-01,  4.24798816e-02,\n",
       "        -3.81315207e-01, -3.20090595e-01, -6.32300040e-01,\n",
       "        -6.55802568e-01, -6.35830341e-01,  5.33313707e-01],\n",
       "       [-1.77905474e+00,  1.31808101e+00,  1.16424299e+00,\n",
       "         1.03391983e+00,  8.48650459e-01,  2.48988161e-01,\n",
       "         1.32440861e+00,  1.09276272e+00,  9.78934798e-02,\n",
       "        -2.79118562e-01, -2.33835223e-01, -5.04328862e-01,\n",
       "        -5.32115953e-01, -5.02993099e-01,  3.92748329e-01],\n",
       "       [-1.77905474e+00,  5.87854011e-01,  6.81887066e-01,\n",
       "         3.27837577e-01,  9.65719613e-01,  3.04574863e-01,\n",
       "         4.22560894e-01, -9.92459607e-02,  6.79651030e-02,\n",
       "        -3.89891649e-01, -2.80420959e-01, -4.36269475e-01,\n",
       "        -4.45754209e-01, -4.30234772e-01,  6.24456003e-01],\n",
       "       [-1.77905474e+00,  1.43840233e-01, -4.24169834e-01,\n",
       "        -1.72318311e-01,  1.09660151e+00,  1.86675448e-01,\n",
       "        -3.71350156e-01, -7.91143062e-01,  8.72415782e-02,\n",
       "        -3.54754349e-01, -2.50415697e-01, -4.09212806e-01,\n",
       "        -4.14447599e-01, -4.03020486e-01,  7.02842288e-01],\n",
       "       [-1.77905474e+00,  1.40613477e-02, -4.84425607e-01,\n",
       "        -4.58414557e-01,  1.36498508e+00, -2.09627388e-01,\n",
       "        -7.75990839e-01, -9.81359085e-01,  1.80315987e-01,\n",
       "        -1.85097637e-01, -1.05538483e-01, -4.24782322e-01,\n",
       "        -4.40281256e-01, -4.18680701e-01,  6.72044352e-01],\n",
       "       [-1.77905474e+00,  7.57002166e-01,  1.65368911e+00,\n",
       "         4.00962427e-01,  1.03050463e+00, -5.21930557e-02,\n",
       "         6.15556789e-01,  1.64157469e-01,  1.04572355e-01,\n",
       "        -3.23163683e-01, -2.23439059e-01, -4.63934756e-01,\n",
       "        -4.87183469e-01, -4.71001492e-01,  5.78333835e-01],\n",
       "       [-1.77905474e+00,  1.30518666e+00,  1.77336562e+00,\n",
       "         1.61565503e+00,  3.50397317e-01, -6.50240391e-01,\n",
       "         1.44685328e+00,  1.00572422e+00, -1.94358954e-01,\n",
       "        -8.68057855e-01, -6.88747792e-01, -4.46185491e-01,\n",
       "        -4.51871321e-01, -4.47854212e-01,  6.08135189e-01],\n",
       "       [-1.77905474e+00,  5.30546371e-01,  3.40085580e-01,\n",
       "         7.00609617e-01,  3.94258567e-01, -7.26749005e-01,\n",
       "         2.40094278e-01, -2.90371253e-01, -2.18739685e-01,\n",
       "        -9.12499230e-01, -6.84979206e-01, -3.48876081e-01,\n",
       "        -3.53345187e-01, -3.46115091e-01,  8.94872433e-01],\n",
       "       [-2.25340715e+00,  1.77070502e-01, -4.84425607e-01,\n",
       "        -2.94653858e-01,  1.14274151e+00,  4.73995096e-02,\n",
       "        -6.31708095e-01, -7.07701401e-01,  2.10945093e-01,\n",
       "        -1.29266679e-01, -8.36584450e-03, -1.92786145e-01,\n",
       "        -1.97747045e-01, -1.98797051e-01,  5.35672793e-01],\n",
       "       [-1.77905474e+00,  3.39806011e-01, -4.84425607e-01,\n",
       "        -3.13090824e-01,  1.29506786e+00, -1.99326751e-01,\n",
       "        -4.43995228e-01, -4.82920334e-01,  2.98391730e-01,\n",
       "         3.01316894e-02,  1.29334084e-01, -1.92487184e-01,\n",
       "        -1.70725904e-01, -1.89663862e-01,  3.54512042e-01],\n",
       "       [-1.77905474e+00,  3.54961248e-01, -4.84425607e-01,\n",
       "        -3.56811004e-01,  1.41865475e+00, -2.26044882e-01,\n",
       "        -5.02048144e-01, -5.13784752e-01,  3.23899440e-01,\n",
       "         7.66273297e-02,  1.69500407e-01, -1.97228107e-01,\n",
       "        -1.89653967e-01, -1.99147643e-01,  3.39999983e-01],\n",
       "       [-1.77905474e+00,  3.74745215e-01, -4.84425607e-01,\n",
       "        -3.98862476e-01,  1.47758381e+00, -2.38745895e-01,\n",
       "        -5.20866947e-01, -4.89947444e-01,  3.57197744e-01,\n",
       "         1.37323720e-01,  2.21934372e-01, -2.04186396e-01,\n",
       "        -2.34883246e-01, -2.01527738e-01,  3.12441726e-01],\n",
       "       [-1.77905474e+00,  4.02379665e-01, -4.84425607e-01,\n",
       "        -4.37958177e-01,  1.55989655e+00, -2.83256060e-01,\n",
       "        -4.59493971e-01, -4.05693299e-01,  4.03709159e-01,\n",
       "         2.22105068e-01,  2.95174680e-01, -2.30934547e-01,\n",
       "        -2.24313590e-01, -2.23703681e-01,  2.60941576e-01]])"
      ]
     },
     "execution_count": 7,
     "metadata": {},
     "output_type": "execute_result"
    }
   ],
   "source": [
    "data[0]"
   ]
  },
  {
   "cell_type": "code",
   "execution_count": 8,
   "id": "f931cdf9",
   "metadata": {},
   "outputs": [],
   "source": [
    "from sklearn import preprocessing\n",
    "le = preprocessing.LabelEncoder()\n",
    "le.fit(labels)\n",
    "labels=le.transform(labels) \n",
    "\n",
    "\n",
    "from keras import optimizers\n",
    "\n",
    "\n",
    "# Doing the cross validation and training the model\n",
    "\n",
    "from sklearn.model_selection import train_test_split\n",
    "X_train, X_test, y_train, y_test = train_test_split(data, labels, test_size=0.3, random_state=31)\n",
    "X_test, X_predict, y_test, y_predict = train_test_split(X_test, y_test, test_size=0.1, random_state=31)"
   ]
  },
  {
   "cell_type": "code",
   "execution_count": 9,
   "id": "b0053a24",
   "metadata": {},
   "outputs": [
    {
     "data": {
      "text/plain": [
       "(1085, 60, 15)"
      ]
     },
     "execution_count": 9,
     "metadata": {},
     "output_type": "execute_result"
    }
   ],
   "source": [
    "X_train.shape"
   ]
  },
  {
   "cell_type": "code",
   "execution_count": 10,
   "id": "da28e312",
   "metadata": {},
   "outputs": [
    {
     "data": {
      "text/plain": [
       "(419, 60, 15)"
      ]
     },
     "execution_count": 10,
     "metadata": {},
     "output_type": "execute_result"
    }
   ],
   "source": [
    "X_test.shape"
   ]
  },
  {
   "cell_type": "code",
   "execution_count": 11,
   "id": "98bbf1ec",
   "metadata": {},
   "outputs": [
    {
     "data": {
      "text/plain": [
       "(47, 60, 15)"
      ]
     },
     "execution_count": 11,
     "metadata": {},
     "output_type": "execute_result"
    }
   ],
   "source": [
    "X_predict.shape"
   ]
  },
  {
   "cell_type": "code",
   "execution_count": 12,
   "id": "f75f5612",
   "metadata": {},
   "outputs": [
    {
     "data": {
      "text/plain": [
       "60"
      ]
     },
     "execution_count": 12,
     "metadata": {},
     "output_type": "execute_result"
    }
   ],
   "source": [
    "data.shape[1]"
   ]
  },
  {
   "cell_type": "markdown",
   "id": "eb83ff00",
   "metadata": {},
   "source": [
    "# FCN-LSTM Implementation"
   ]
  },
  {
   "cell_type": "code",
   "execution_count": 13,
   "id": "97726fc1",
   "metadata": {},
   "outputs": [],
   "source": [
    "from keras.models import Sequential\n",
    "from keras.layers import Dense\n",
    "from keras.layers import *\n",
    "\n",
    "from keras.models import Model\n",
    "from keras.layers import Input, PReLU, Dense, LSTM, multiply, concatenate, Activation\n",
    "from keras.layers import Conv1D, BatchNormalization, GlobalAveragePooling1D, Permute, Dropout\n",
    "from keras.callbacks import ModelCheckpoint\n",
    "from tensorflow import keras\n",
    "from tensorflow.keras import layers"
   ]
  },
  {
   "cell_type": "code",
   "execution_count": 15,
   "id": "7efb32fb",
   "metadata": {},
   "outputs": [],
   "source": [
    "ip = Input(shape=(data.shape[1], data.shape[2]))\n",
    "\n",
    "x = Permute((2, 1))(ip) # dimension shuffle\n",
    "x=LSTM(10)(x)\n",
    "x = Dropout(0.8)(x)\n",
    "\n",
    "\n",
    "y = Conv1D(128, 8, padding='same', kernel_initializer='he_uniform')(ip)\n",
    "y = BatchNormalization()(y)\n",
    "y = Activation('relu')(y)\n",
    "y = Conv1D(256, 5, padding='same', kernel_initializer='he_uniform')(y)\n",
    "y = BatchNormalization()(y)\n",
    "y = Activation('relu')(y)\n",
    "y = Conv1D(128, 3, padding='same', kernel_initializer='he_uniform')(y)\n",
    "y = BatchNormalization()(y)\n",
    "y = Activation('relu')(y)\n",
    "y = GlobalAveragePooling1D()(y)\n",
    "\n",
    "x = concatenate([x, y])\n",
    "out = Dense(10, activation='sigmoid')(y)\n",
    "model = Model(ip, out)"
   ]
  },
  {
   "cell_type": "code",
   "execution_count": 16,
   "id": "b7e36a72",
   "metadata": {},
   "outputs": [
    {
     "name": "stdout",
     "output_type": "stream",
     "text": [
      "Model: \"model_1\"\n",
      "_________________________________________________________________\n",
      " Layer (type)                Output Shape              Param #   \n",
      "=================================================================\n",
      " input_2 (InputLayer)        [(None, 60, 15)]          0         \n",
      "                                                                 \n",
      " conv1d_3 (Conv1D)           (None, 60, 128)           15488     \n",
      "                                                                 \n",
      " batch_normalization_3 (Bat  (None, 60, 128)           512       \n",
      " chNormalization)                                                \n",
      "                                                                 \n",
      " activation_3 (Activation)   (None, 60, 128)           0         \n",
      "                                                                 \n",
      " conv1d_4 (Conv1D)           (None, 60, 256)           164096    \n",
      "                                                                 \n",
      " batch_normalization_4 (Bat  (None, 60, 256)           1024      \n",
      " chNormalization)                                                \n",
      "                                                                 \n",
      " activation_4 (Activation)   (None, 60, 256)           0         \n",
      "                                                                 \n",
      " conv1d_5 (Conv1D)           (None, 60, 128)           98432     \n",
      "                                                                 \n",
      " batch_normalization_5 (Bat  (None, 60, 128)           512       \n",
      " chNormalization)                                                \n",
      "                                                                 \n",
      " activation_5 (Activation)   (None, 60, 128)           0         \n",
      "                                                                 \n",
      " global_average_pooling1d_1  (None, 128)               0         \n",
      "  (GlobalAveragePooling1D)                                       \n",
      "                                                                 \n",
      " dense_1 (Dense)             (None, 10)                1290      \n",
      "                                                                 \n",
      "=================================================================\n",
      "Total params: 281354 (1.07 MB)\n",
      "Trainable params: 280330 (1.07 MB)\n",
      "Non-trainable params: 1024 (4.00 KB)\n",
      "_________________________________________________________________\n"
     ]
    }
   ],
   "source": [
    "model.summary()"
   ]
  },
  {
   "cell_type": "markdown",
   "id": "59e34f3b",
   "metadata": {},
   "source": [
    "# Model Train"
   ]
  },
  {
   "cell_type": "code",
   "execution_count": 17,
   "id": "e6e9695f",
   "metadata": {},
   "outputs": [
    {
     "name": "stdout",
     "output_type": "stream",
     "text": [
      "WARNING:tensorflow:From C:\\Users\\user\\AppData\\Roaming\\Python\\Python311\\site-packages\\keras\\src\\optimizers\\__init__.py:309: The name tf.train.Optimizer is deprecated. Please use tf.compat.v1.train.Optimizer instead.\n",
      "\n",
      "Epoch 1/10\n",
      "WARNING:tensorflow:From C:\\Users\\user\\AppData\\Roaming\\Python\\Python311\\site-packages\\keras\\src\\utils\\tf_utils.py:492: The name tf.ragged.RaggedTensorValue is deprecated. Please use tf.compat.v1.ragged.RaggedTensorValue instead.\n",
      "\n",
      "WARNING:tensorflow:From C:\\Users\\user\\AppData\\Roaming\\Python\\Python311\\site-packages\\keras\\src\\engine\\base_layer_utils.py:384: The name tf.executing_eagerly_outside_functions is deprecated. Please use tf.compat.v1.executing_eagerly_outside_functions instead.\n",
      "\n",
      "9/9 - 5s - loss: 1.8358 - accuracy: 0.3760 - val_loss: 3.6010 - val_accuracy: 0.1814 - 5s/epoch - 602ms/step\n",
      "Epoch 2/10\n",
      "9/9 - 2s - loss: 1.2858 - accuracy: 0.5641 - val_loss: 3.6065 - val_accuracy: 0.1981 - 2s/epoch - 169ms/step\n",
      "Epoch 3/10\n",
      "9/9 - 2s - loss: 1.0768 - accuracy: 0.6571 - val_loss: 3.0869 - val_accuracy: 0.2768 - 2s/epoch - 171ms/step\n",
      "Epoch 4/10\n",
      "9/9 - 2s - loss: 0.9106 - accuracy: 0.7272 - val_loss: 2.7767 - val_accuracy: 0.3031 - 2s/epoch - 170ms/step\n",
      "Epoch 5/10\n",
      "9/9 - 2s - loss: 0.7990 - accuracy: 0.7576 - val_loss: 2.5485 - val_accuracy: 0.3007 - 2s/epoch - 170ms/step\n",
      "Epoch 6/10\n",
      "9/9 - 2s - loss: 0.7153 - accuracy: 0.8000 - val_loss: 2.2323 - val_accuracy: 0.3294 - 2s/epoch - 169ms/step\n",
      "Epoch 7/10\n",
      "9/9 - 2s - loss: 0.6741 - accuracy: 0.7889 - val_loss: 2.0583 - val_accuracy: 0.3413 - 2s/epoch - 180ms/step\n",
      "Epoch 8/10\n",
      "9/9 - 2s - loss: 0.6019 - accuracy: 0.8147 - val_loss: 1.9391 - val_accuracy: 0.3914 - 2s/epoch - 192ms/step\n",
      "Epoch 9/10\n",
      "9/9 - 2s - loss: 0.5367 - accuracy: 0.8442 - val_loss: 1.5985 - val_accuracy: 0.4200 - 2s/epoch - 187ms/step\n",
      "Epoch 10/10\n",
      "9/9 - 2s - loss: 0.5064 - accuracy: 0.8599 - val_loss: 1.5321 - val_accuracy: 0.4654 - 2s/epoch - 191ms/step\n"
     ]
    }
   ],
   "source": [
    "model.compile(loss='sparse_categorical_crossentropy', optimizer='adam', metrics=['accuracy'])\n",
    "history = model.fit(X_train, y_train, validation_data=(X_test,y_test), epochs=10, batch_size=128, verbose=2)"
   ]
  },
  {
   "cell_type": "code",
   "execution_count": 19,
   "id": "094aef78",
   "metadata": {},
   "outputs": [],
   "source": [
    "model.save('Driver_Profiling.h5') "
   ]
  },
  {
   "cell_type": "code",
   "execution_count": 20,
   "id": "6c595d37",
   "metadata": {},
   "outputs": [
    {
     "name": "stdout",
     "output_type": "stream",
     "text": [
      "14/14 [==============================] - 0s 14ms/step - loss: 1.5321 - accuracy: 0.4654\n"
     ]
    },
    {
     "data": {
      "text/plain": [
       "[1.5320931673049927, 0.4653937816619873]"
      ]
     },
     "execution_count": 20,
     "metadata": {},
     "output_type": "execute_result"
    }
   ],
   "source": [
    "model.evaluate(X_test, y_test)"
   ]
  },
  {
   "cell_type": "code",
   "execution_count": 21,
   "id": "106e0ddd",
   "metadata": {},
   "outputs": [
    {
     "name": "stdout",
     "output_type": "stream",
     "text": [
      "dict_keys(['loss', 'accuracy', 'val_loss', 'val_accuracy'])\n"
     ]
    },
    {
     "data": {
      "image/png": "[encoded data removed]",
      "text/plain": [
       "<Figure size 640x480 with 1 Axes>"
      ]
     },
     "metadata": {},
     "output_type": "display_data"
    }
   ],
   "source": [
    "print(history.history.keys())\n",
    "# summarize history for accuracy\n",
    "plt.plot(history.history['accuracy'])\n",
    "plt.plot(history.history['val_accuracy'])\n",
    "plt.title('model accuracy')\n",
    "plt.ylabel('accuracy')\n",
    "plt.xlabel('epoch')\n",
    "plt.legend(['train', 'test'], loc='upper left')\n",
    "plt.show()"
   ]
  },
  {
   "cell_type": "code",
   "execution_count": 22,
   "id": "66dca172",
   "metadata": {},
   "outputs": [
    {
     "data": {
      "image/png": "[encoded data removed]",
      "text/plain": [
       "<Figure size 640x480 with 1 Axes>"
      ]
     },
     "metadata": {},
     "output_type": "display_data"
    }
   ],
   "source": [
    "# summarize history for loss\n",
    "plt.plot(history.history['loss'])\n",
    "plt.plot(history.history['val_loss'])\n",
    "plt.title('model loss')\n",
    "plt.ylabel('loss')\n",
    "plt.xlabel('epoch')\n",
    "plt.legend(['train', 'test'], loc='upper left')\n",
    "plt.show()"
   ]
  },
  {
   "cell_type": "code",
   "execution_count": 51,
   "id": "3a2a8c4c",
   "metadata": {},
   "outputs": [
    {
     "name": "stdout",
     "output_type": "stream",
     "text": [
      "    Rate Rows Sensors  Accuracy\n",
      "0     0%    1       7     46.54\n",
      "1     0%   10       7     46.54\n",
      "2   1.0%    1       7     46.54\n",
      "3   1.0%   10       7     46.54\n",
      "4  10.0%    1       7     46.54\n",
      "5  10.0%   10       7     46.54\n",
      "6  30.0%    1       7     46.54\n",
      "7  30.0%   10       7     46.54\n",
      "8  50.0%    1       7     46.54\n",
      "9  50.0%   10       7     46.54\n"
     ]
    }
   ],
   "source": [
    "import random\n",
    "import pandas as pd  # Don't forget to import pandas if you haven't already\n",
    "\n",
    "# Define or access your model and data here:\n",
    "# X_test = ...\n",
    "# y_test = ...\n",
    "# model = ...\n",
    "\n",
    "rates = [0, 0.01, 0.1, 0.3, 0.5]\n",
    "rows = [1, 10]\n",
    "sensors = [7]\n",
    "\n",
    "results = pd.DataFrame(columns=[\"Rate\", \"Rows\", \"Sensors\", \"Accuracy\"])\n",
    "\n",
    "for rate in rates:\n",
    "    for row in rows:\n",
    "        for sensor in sensors:\n",
    "            # ... (your existing code)\n",
    "\n",
    "            # Instead of using append, concatenate a DataFrame with a single row\n",
    "            new_row = pd.DataFrame({\n",
    "                'Rate': [str(rate * 100) + \"%\"],\n",
    "                'Rows': [str(row)],\n",
    "                'Sensors': [str(sensor)],\n",
    "                'Accuracy': [acc]\n",
    "            })\n",
    "            results = pd.concat([results, new_row], ignore_index=True)\n",
    "\n",
    "print(results)"
   ]
  },
  {
   "cell_type": "markdown",
   "id": "ef57340c",
   "metadata": {},
   "source": [
    "# Deployment "
   ]
  },
  {
   "cell_type": "code",
   "execution_count": 57,
   "id": "49d04d65",
   "metadata": {},
   "outputs": [],
   "source": [
    "model = keras.models.load_model('Driver_Profiling.h5')"
   ]
  },
  {
   "cell_type": "code",
   "execution_count": 58,
   "id": "5aacbafc",
   "metadata": {},
   "outputs": [],
   "source": [
    "Live_Data= np.expand_dims(X_predict[10],axis=0)"
   ]
  },
  {
   "cell_type": "code",
   "execution_count": 59,
   "id": "c161df45",
   "metadata": {},
   "outputs": [
    {
     "data": {
      "text/plain": [
       "(60, 15)"
      ]
     },
     "execution_count": 59,
     "metadata": {},
     "output_type": "execute_result"
    }
   ],
   "source": [
    "X_predict[1].shape"
   ]
  },
  {
   "cell_type": "code",
   "execution_count": 60,
   "id": "789911e7",
   "metadata": {},
   "outputs": [
    {
     "data": {
      "text/plain": [
       "(1, 60, 15)"
      ]
     },
     "execution_count": 60,
     "metadata": {},
     "output_type": "execute_result"
    }
   ],
   "source": [
    "Live_Data.shape"
   ]
  },
  {
   "cell_type": "code",
   "execution_count": 61,
   "id": "d1f2f622",
   "metadata": {},
   "outputs": [
    {
     "name": "stdout",
     "output_type": "stream",
     "text": [
      "1/1 [==============================] - 0s 326ms/step\n"
     ]
    }
   ],
   "source": [
    "pred = model.predict(Live_Data)"
   ]
  },
  {
   "cell_type": "code",
   "execution_count": 62,
   "id": "81479142",
   "metadata": {},
   "outputs": [
    {
     "data": {
      "text/plain": [
       "array([[0.8356969 , 0.05737954, 0.90987265, 0.7472482 , 0.47693372,\n",
       "        0.573363  , 0.5686266 , 0.1520278 , 0.05083327, 0.31384185]],\n",
       "      dtype=float32)"
      ]
     },
     "execution_count": 62,
     "metadata": {},
     "output_type": "execute_result"
    }
   ],
   "source": [
    "pred "
   ]
  },
  {
   "cell_type": "code",
   "execution_count": 63,
   "id": "26612f35",
   "metadata": {},
   "outputs": [
    {
     "data": {
      "text/plain": [
       "2"
      ]
     },
     "execution_count": 63,
     "metadata": {},
     "output_type": "execute_result"
    }
   ],
   "source": [
    "np.argmax(pred)"
   ]
  },
  {
   "cell_type": "code",
   "execution_count": 64,
   "id": "3696db9a",
   "metadata": {},
   "outputs": [
    {
     "data": {
      "text/plain": [
       "5"
      ]
     },
     "execution_count": 64,
     "metadata": {},
     "output_type": "execute_result"
    }
   ],
   "source": [
    "y_predict[10]"
   ]
  },
  {
   "cell_type": "code",
   "execution_count": 65,
   "id": "d1822e18",
   "metadata": {},
   "outputs": [
    {
     "data": {
      "text/plain": [
       "array([1, 0, 3, 4, 6, 4, 3, 1, 9, 5, 5, 8, 9, 4, 1, 3, 0, 1, 6, 7, 1, 3,\n",
       "       9, 8, 2, 6, 8, 3, 5, 1, 3, 1, 7, 3, 5, 7, 5, 1, 1, 6, 9, 0, 2, 0,\n",
       "       1, 3, 6], dtype=int64)"
      ]
     },
     "execution_count": 65,
     "metadata": {},
     "output_type": "execute_result"
    }
   ],
   "source": [
    "y_predict"
   ]
  },
  {
   "cell_type": "code",
   "execution_count": null,
   "id": "28c70385",
   "metadata": {},
   "outputs": [],
   "source": []
  }
 ],
 "metadata": {
  "kernelspec": {
   "display_name": "Python 3 (ipykernel)",
   "language": "python",
   "name": "python3"
  },
  "language_info": {
   "codemirror_mode": {
    "name": "ipython",
    "version": 3
   },
   "file_extension": ".py",
   "mimetype": "text/x-python",
   "name": "python",
   "nbconvert_exporter": "python",
   "pygments_lexer": "ipython3",
   "version": "3.11.5"
  }
 },
 "nbformat": 4,
 "nbformat_minor": 5
}
